{
 "cells": [
  {
   "cell_type": "code",
   "execution_count": 1,
   "metadata": {},
   "outputs": [],
   "source": [
    "import requests\n",
    "from dotenv import load_dotenv\n",
    "load_dotenv()\n",
    "import os"
   ]
  },
  {
   "cell_type": "code",
   "execution_count": 4,
   "metadata": {},
   "outputs": [
    {
     "data": {
      "text/plain": [
       "'k_xmalxntj'"
      ]
     },
     "execution_count": 4,
     "metadata": {},
     "output_type": "execute_result"
    }
   ],
   "source": [
    "token = os.environ.get(\"api-key\")\n",
    "token"
   ]
  },
  {
   "cell_type": "code",
   "execution_count": 13,
   "metadata": {},
   "outputs": [],
   "source": [
    "class MovieRequest:\n",
    "    _api_key = os.environ.get(\"api-key\")\n",
    "    _base_url = \"https://imdb-api.com/en/API/\"\n",
    "    url = f\"Ratings/{_api_key}/tt1375666\"\n",
    "\n",
    "    full_url = _base_url+url\n",
    "    \n",
    "    @classmethod\n",
    "    def get_rating(cls):\n",
    "        response = requests.request(\"GET\", cls.full_url)\n",
    "        return response.text.encode('utf8')\n",
    "        # headers=headers, data = payload)\n",
    "    "
   ]
  },
  {
   "cell_type": "code",
   "execution_count": 14,
   "metadata": {},
   "outputs": [
    {
     "data": {
      "text/plain": [
       "b'{\"imDbId\":\"tt1375666\",\"title\":\"Inception\",\"fullTitle\":\"Inception (2010)\",\"type\":\"Movie\",\"year\":\"2010\",\"imDb\":\"8.8\",\"metacritic\":\"74\",\"theMovieDb\":\"8.4\",\"rottenTomatoes\":\"87\",\"filmAffinity\":\"8.0\",\"errorMessage\":\"\"}'"
      ]
     },
     "execution_count": 14,
     "metadata": {},
     "output_type": "execute_result"
    }
   ],
   "source": [
    "test = MovieRequest()\n",
    "test.get_rating()"
   ]
  }
 ],
 "metadata": {
  "kernelspec": {
   "display_name": "Python 3.10.7 64-bit",
   "language": "python",
   "name": "python3"
  },
  "language_info": {
   "codemirror_mode": {
    "name": "ipython",
    "version": 3
   },
   "file_extension": ".py",
   "mimetype": "text/x-python",
   "name": "python",
   "nbconvert_exporter": "python",
   "pygments_lexer": "ipython3",
   "version": "3.10.7"
  },
  "orig_nbformat": 4,
  "vscode": {
   "interpreter": {
    "hash": "2711d530959f26019c975a57a64a7b4a29e1c2b9bdd7341b03a02057f2c34a89"
   }
  }
 },
 "nbformat": 4,
 "nbformat_minor": 2
}
