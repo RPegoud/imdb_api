{
 "cells": [
  {
   "cell_type": "code",
   "execution_count": 1,
   "metadata": {},
   "outputs": [],
   "source": [
    "import requests\n",
    "from dotenv import load_dotenv\n",
    "load_dotenv()\n",
    "import os"
   ]
  },
  {
   "cell_type": "code",
   "execution_count": 2,
   "metadata": {},
   "outputs": [
    {
     "data": {
      "text/plain": [
       "'https://imdb-api.com/en/API/'"
      ]
     },
     "execution_count": 2,
     "metadata": {},
     "output_type": "execute_result"
    }
   ],
   "source": [
    "token = os.environ.get(\"base-url\")\n",
    "token"
   ]
  },
  {
   "cell_type": "code",
   "execution_count": 3,
   "metadata": {},
   "outputs": [],
   "source": [
    "class Response:\n",
    "    def __init__(self, status_code, content):\n",
    "        self.status_code = status_code\n",
    "        self._content = content\n",
    "        self._base_url = os.environ.get(\"base-url\")\n",
    "\n",
    "    def __repr__(self) -> str:\n",
    "        response = requests.get(self._base_url, params=self._content)\n",
    "        if response.status_code == 200:\n",
    "            print(f'Status code :{response.status_code}')\n",
    "            return response.content\n",
    "        else:\n",
    "            return(f'Error, status code :{response.status_code}')\n",
    "\n",
    "class MovieRequest:\n",
    "    _api_key = os.environ.get(\"api-key\")\n",
    "    _base_url = os.environ.get(\"base-url\")\n",
    "    url = f\"SearchMovie/{_api_key}/inception 2010\"\n",
    "\n",
    "    _full_url = _base_url+url\n",
    "    \n",
    "    @classmethod\n",
    "    def search_movie(cls):\n",
    "        response =  requests.request(\"GET\", cls._full_url)\n",
    "        \n",
    "        return Response(status_code=response.status_code, content=response.json())"
   ]
  },
  {
   "cell_type": "code",
   "execution_count": 4,
   "metadata": {},
   "outputs": [],
   "source": [
    "test = MovieRequest()\n",
    "resp = test.search_movie()"
   ]
  },
  {
   "cell_type": "code",
   "execution_count": 9,
   "metadata": {},
   "outputs": [
    {
     "data": {
      "text/plain": [
       "200"
      ]
     },
     "execution_count": 9,
     "metadata": {},
     "output_type": "execute_result"
    }
   ],
   "source": [
    "resp.status_code"
   ]
  }
 ],
 "metadata": {
  "kernelspec": {
   "display_name": "Python 3.10.7 64-bit",
   "language": "python",
   "name": "python3"
  },
  "language_info": {
   "codemirror_mode": {
    "name": "ipython",
    "version": 3
   },
   "file_extension": ".py",
   "mimetype": "text/x-python",
   "name": "python",
   "nbconvert_exporter": "python",
   "pygments_lexer": "ipython3",
   "version": "3.10.7"
  },
  "orig_nbformat": 4,
  "vscode": {
   "interpreter": {
    "hash": "2711d530959f26019c975a57a64a7b4a29e1c2b9bdd7341b03a02057f2c34a89"
   }
  }
 },
 "nbformat": 4,
 "nbformat_minor": 2
}
